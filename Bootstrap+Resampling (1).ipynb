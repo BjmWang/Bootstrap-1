{
 "cells": [
  {
   "cell_type": "markdown",
   "metadata": {},
   "source": [
    "# Bootstrap Resampling of Mean\n",
    "---\n",
    "### Does bootstrap resampling of a statistic better approximate the population value the more you resample?"
   ]
  },
  {
   "cell_type": "code",
   "execution_count": 1,
   "metadata": {},
   "outputs": [],
   "source": [
    "from scipy.stats import norm\n",
    "import numpy as np"
   ]
  },
  {
   "cell_type": "code",
   "execution_count": 2,
   "metadata": {},
   "outputs": [],
   "source": [
    "RAND_STATE = 1 # seed for generating random values from normal distribution\n",
    "NUM_RESAMPLES = 10 # number of times to bootstrap resample\n",
    "POP_SIZE = 10000 # size of population\n",
    "SAMP_SIZE = int(0.05 * POP_SIZE) # size of sample to be sampled from population\n",
    "MU = 10 # mean of normal distribution\n",
    "SIGMA = 2 # standard deviation of normal distribution"
   ]
  },
  {
   "cell_type": "code",
   "execution_count": 3,
   "metadata": {},
   "outputs": [],
   "source": [
    "# population\n",
    "population = norm.rvs(loc=MU, scale=SIGMA, size=POP_SIZE, random_state=RAND_STATE)\n",
    "# sample from population\n",
    "samp = np.random.choice(population, size=SAMP_SIZE)\n",
    "# average of population\n",
    "pop_mean = np.mean(population)"
   ]
  },
  {
   "cell_type": "code",
   "execution_count": 4,
   "metadata": {},
   "outputs": [
    {
     "name": "stdout",
     "output_type": "stream",
     "text": [
      "\n",
      "Number of Resamples: 10\n",
      "Population Mean: 10.019545313398211\n",
      "Bootstrap Mean: 10.262028070396484\n",
      "\n",
      "Difference in means: 0.24248276\n",
      "----------------------------------------\n",
      "\n",
      "Number of Resamples: 100\n",
      "Population Mean: 10.019545313398211\n",
      "Bootstrap Mean: 10.273353168073884\n",
      "\n",
      "Difference in means: 0.25380785\n",
      "----------------------------------------\n",
      "\n",
      "Number of Resamples: 1000\n",
      "Population Mean: 10.019545313398211\n",
      "Bootstrap Mean: 10.274686391322081\n",
      "\n",
      "Difference in means: 0.25514108\n",
      "----------------------------------------\n",
      "\n",
      "Number of Resamples: 10000\n",
      "Population Mean: 10.019545313398211\n",
      "Bootstrap Mean: 10.27103531504074\n",
      "\n",
      "Difference in means: 0.25149\n",
      "----------------------------------------\n",
      "\n",
      "Number of Resamples: 100000\n",
      "Population Mean: 10.019545313398211\n",
      "Bootstrap Mean: 10.270836347006604\n",
      "\n",
      "Difference in means: 0.25129103\n",
      "----------------------------------------\n",
      "\n",
      "Number of Resamples: 1000000\n",
      "Population Mean: 10.019545313398211\n",
      "Bootstrap Mean: 10.27011292480651\n",
      "\n",
      "Difference in means: 0.25056761\n",
      "\n"
     ]
    }
   ],
   "source": [
    "for exp in range(1, 7):\n",
    "    # sample the size of the sample with replacement from the sample\n",
    "    bootstrap = [np.mean(np.random.choice(samp, size=len(samp), replace=True)) for i in range(NUM_RESAMPLES**exp)]\n",
    "    # average of bootstrap resamples\n",
    "    bootstrap_mean = np.mean(bootstrap)\n",
    "    \n",
    "    print('\\nNumber of Resamples: {}'.format(NUM_RESAMPLES**exp))\n",
    "    print('Population Mean: {}\\nBootstrap Mean: {}'.format(pop_mean, bootstrap_mean))\n",
    "    print('\\nDifference in means: {}'.format(round(abs(pop_mean - bootstrap_mean), 8)))\n",
    "    print('-' * 40 if exp < 6 else '')"
   ]
  },
  {
   "cell_type": "markdown",
   "metadata": {},
   "source": [
    "# CONCLUSION:\n",
    "### No, according to the change in the difference of means, the population value of a statistic (e.g. mean) is not better approximated the more you resample using the bootstrap resampling technique. The sample used for bootstrap resampling determines how close the approximation will get to the population value and the bootstrap statistic does not better approximate the population statistic the more you resample (notice the change in \"Difference in means\" as \"Number of Resamples\" increases)."
   ]
  }
 ],
 "metadata": {
  "kernelspec": {
   "display_name": "Python 3",
   "language": "python",
   "name": "python3"
  },
  "language_info": {
   "codemirror_mode": {
    "name": "ipython",
    "version": 3
   },
   "file_extension": ".py",
   "mimetype": "text/x-python",
   "name": "python",
   "nbconvert_exporter": "python",
   "pygments_lexer": "ipython3",
   "version": "3.5.2"
  },
  "varInspector": {
   "cols": {
    "lenName": 16,
    "lenType": 16,
    "lenVar": 40
   },
   "kernels_config": {
    "python": {
     "delete_cmd_postfix": "",
     "delete_cmd_prefix": "del ",
     "library": "var_list.py",
     "varRefreshCmd": "print(var_dic_list())"
    },
    "r": {
     "delete_cmd_postfix": ") ",
     "delete_cmd_prefix": "rm(",
     "library": "var_list.r",
     "varRefreshCmd": "cat(var_dic_list()) "
    }
   },
   "types_to_exclude": [
    "module",
    "function",
    "builtin_function_or_method",
    "instance",
    "_Feature"
   ],
   "window_display": false
  }
 },
 "nbformat": 4,
 "nbformat_minor": 2
}
